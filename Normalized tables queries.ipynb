{
 "cells": [
  {
   "cell_type": "code",
   "execution_count": 0,
   "metadata": {
    "application/vnd.databricks.v1+cell": {
     "cellMetadata": {
      "byteLimit": 2048000,
      "rowLimit": 10000
     },
     "inputWidgets": {},
     "nuid": "49a9d771-d70a-4482-b282-72e8a9776e3d",
     "showTitle": true,
     "tableResultSettingsMap": {},
     "title": "fiscal_calendar → Normalized"
    }
   },
   "outputs": [
    {
     "output_type": "display_data",
     "data": {
      "text/html": [
       "<style scoped>\n",
       "  .table-result-container {\n",
       "    max-height: 300px;\n",
       "    overflow: auto;\n",
       "  }\n",
       "  table, th, td {\n",
       "    border: 1px solid black;\n",
       "    border-collapse: collapse;\n",
       "  }\n",
       "  th, td {\n",
       "    padding: 5px;\n",
       "  }\n",
       "  th {\n",
       "    text-align: left;\n",
       "  }\n",
       "</style><div class='table-result-container'><table class='table-result'><thead style='background-color: white'><tr></tr></thead><tbody></tbody></table></div>"
      ]
     },
     "metadata": {
      "application/vnd.databricks.v1+output": {
       "addedWidgets": {},
       "aggData": [],
       "aggError": "",
       "aggOverflow": false,
       "aggSchema": [],
       "aggSeriesLimitReached": false,
       "aggType": "",
       "arguments": {},
       "columnCustomDisplayInfos": {},
       "data": [],
       "datasetInfos": [],
       "dbfsResultPath": null,
       "isJsonSchema": true,
       "metadata": {
        "isDbfsCommandResult": false
       },
       "overflow": false,
       "plotOptions": {
        "customPlotOptions": {},
        "displayType": "table",
        "pivotAggregation": null,
        "pivotColumns": null,
        "xColumns": null,
        "yColumns": null
       },
       "removedWidgets": [],
       "schema": [],
       "type": "table"
      }
     },
     "output_type": "display_data"
    }
   ],
   "source": [
    "CREATE TABLE fiscal_year (\n",
    "    fsclyr_id STRING PRIMARY KEY,\n",
    "    fsclyr_label STRING\n",
    ");\n",
    "\n",
    "CREATE TABLE fiscal_quarter (\n",
    "    fsclqrtr_id STRING PRIMARY KEY,\n",
    "    fsclqrtr_label STRING,\n",
    "    fsclyr_id STRING,\n",
    "    FOREIGN KEY (fsclyr_id) REFERENCES fiscal_year(fsclyr_id)\n",
    ");\n",
    "\n",
    "CREATE TABLE fiscal_month (\n",
    "    fsclmth_id STRING PRIMARY KEY,\n",
    "    fsclmth_label STRING,\n",
    "    fsclqrtr_id STRING,\n",
    "    FOREIGN KEY (fsclqrtr_id) REFERENCES fiscal_quarter(fsclqrtr_id)\n",
    ");\n",
    "\n",
    "CREATE TABLE fiscal_week (\n",
    "    fsclwk_id STRING PRIMARY KEY,\n",
    "    fsclwk_label STRING,\n",
    "    fsclmth_id STRING,\n",
    "    FOREIGN KEY (fsclmth_id) REFERENCES fiscal_month(fsclmth_id)\n",
    ");\n",
    "\n",
    "CREATE TABLE fiscal_day (\n",
    "    fscldt_id STRING PRIMARY KEY,\n",
    "    fscldt_label STRING,\n",
    "    fsclwk_id STRING,\n",
    "    fscldow STRING,\n",
    "    fscldom STRING,\n",
    "    fscldoq STRING,\n",
    "    fscldoy STRING,\n",
    "    fsclwoy STRING,\n",
    "    fsclmoy STRING,\n",
    "    fsclqoy STRING,\n",
    "    date STRING,\n",
    "    FOREIGN KEY (fsclwk_id) REFERENCES fiscal_week(fsclwk_id)\n",
    ");"
   ]
  },
  {
   "cell_type": "code",
   "execution_count": 0,
   "metadata": {
    "application/vnd.databricks.v1+cell": {
     "cellMetadata": {
      "byteLimit": 2048000,
      "rowLimit": 10000
     },
     "inputWidgets": {},
     "nuid": "6ad4ee22-d48a-467f-9fa9-f680576f0850",
     "showTitle": true,
     "tableResultSettingsMap": {},
     "title": "product → Normalized"
    }
   },
   "outputs": [
    {
     "output_type": "display_data",
     "data": {
      "text/html": [
       "<style scoped>\n",
       "  .table-result-container {\n",
       "    max-height: 300px;\n",
       "    overflow: auto;\n",
       "  }\n",
       "  table, th, td {\n",
       "    border: 1px solid black;\n",
       "    border-collapse: collapse;\n",
       "  }\n",
       "  th, td {\n",
       "    padding: 5px;\n",
       "  }\n",
       "  th {\n",
       "    text-align: left;\n",
       "  }\n",
       "</style><div class='table-result-container'><table class='table-result'><thead style='background-color: white'><tr></tr></thead><tbody></tbody></table></div>"
      ]
     },
     "metadata": {
      "application/vnd.databricks.v1+output": {
       "addedWidgets": {},
       "aggData": [],
       "aggError": "",
       "aggOverflow": false,
       "aggSchema": [],
       "aggSeriesLimitReached": false,
       "aggType": "",
       "arguments": {},
       "columnCustomDisplayInfos": {},
       "data": [],
       "datasetInfos": [],
       "dbfsResultPath": null,
       "isJsonSchema": true,
       "metadata": {
        "isDbfsCommandResult": false
       },
       "overflow": false,
       "plotOptions": {
        "customPlotOptions": {},
        "displayType": "table",
        "pivotAggregation": null,
        "pivotColumns": null,
        "xColumns": null,
        "yColumns": null
       },
       "removedWidgets": [],
       "schema": [],
       "type": "table"
      }
     },
     "output_type": "display_data"
    }
   ],
   "source": [
    "CREATE TABLE department (\n",
    "    dept_id STRING PRIMARY KEY,\n",
    "    dept_label STRING\n",
    ");\n",
    "\n",
    "CREATE TABLE category (\n",
    "    cat_id STRING PRIMARY KEY,\n",
    "    cat_label STRING,\n",
    "    dept_id STRING,\n",
    "    FOREIGN KEY (dept_id) REFERENCES department(dept_id)\n",
    ");\n",
    "\n",
    "CREATE TABLE subcategory (\n",
    "    subcat_id STRING PRIMARY KEY,\n",
    "    subcat_label STRING,\n",
    "    cat_id STRING,\n",
    "    FOREIGN KEY (cat_id) REFERENCES category(cat_id)\n",
    ");\n",
    "\n",
    "CREATE TABLE style (\n",
    "    styl_id STRING PRIMARY KEY,\n",
    "    styl_label STRING,\n",
    "    subcat_id STRING,\n",
    "    FOREIGN KEY (subcat_id) REFERENCES subcategory(subcat_id)\n",
    ");\n",
    "\n",
    "CREATE TABLE style_color (\n",
    "    stylclr_id STRING PRIMARY KEY,\n",
    "    stylclr_label STRING,\n",
    "    styl_id STRING,\n",
    "    FOREIGN KEY (styl_id) REFERENCES style(styl_id)\n",
    ");\n",
    "\n",
    "CREATE TABLE product (\n",
    "    sku_id STRING PRIMARY KEY,\n",
    "    sku_label STRING,\n",
    "    stylclr_id STRING,\n",
    "    issvc STRING,\n",
    "    isasmbly STRING,\n",
    "    isnfs STRING,\n",
    "    FOREIGN KEY (stylclr_id) REFERENCES style_color(stylclr_id)\n",
    ");\n"
   ]
  },
  {
   "cell_type": "code",
   "execution_count": 0,
   "metadata": {
    "application/vnd.databricks.v1+cell": {
     "cellMetadata": {
      "byteLimit": 2048000,
      "rowLimit": 10000
     },
     "inputWidgets": {},
     "nuid": "c82c978d-8c20-427c-8eff-71a7b84c4a27",
     "showTitle": true,
     "tableResultSettingsMap": {},
     "title": "retail_location & location → Normalized"
    }
   },
   "outputs": [
    {
     "output_type": "display_data",
     "data": {
      "text/html": [
       "<style scoped>\n",
       "  .table-result-container {\n",
       "    max-height: 300px;\n",
       "    overflow: auto;\n",
       "  }\n",
       "  table, th, td {\n",
       "    border: 1px solid black;\n",
       "    border-collapse: collapse;\n",
       "  }\n",
       "  th, td {\n",
       "    padding: 5px;\n",
       "  }\n",
       "  th {\n",
       "    text-align: left;\n",
       "  }\n",
       "</style><div class='table-result-container'><table class='table-result'><thead style='background-color: white'><tr></tr></thead><tbody></tbody></table></div>"
      ]
     },
     "metadata": {
      "application/vnd.databricks.v1+output": {
       "addedWidgets": {},
       "aggData": [],
       "aggError": "",
       "aggOverflow": false,
       "aggSchema": [],
       "aggSeriesLimitReached": false,
       "aggType": "",
       "arguments": {},
       "columnCustomDisplayInfos": {},
       "data": [],
       "datasetInfos": [],
       "dbfsResultPath": null,
       "isJsonSchema": true,
       "metadata": {
        "isDbfsCommandResult": false
       },
       "overflow": false,
       "plotOptions": {
        "customPlotOptions": {},
        "displayType": "table",
        "pivotAggregation": null,
        "pivotColumns": null,
        "xColumns": null,
        "yColumns": null
       },
       "removedWidgets": [],
       "schema": [],
       "type": "table"
      }
     },
     "output_type": "display_data"
    }
   ],
   "source": [
    "CREATE TABLE region (\n",
    "    rgn STRING PRIMARY KEY,\n",
    "    rgn_label STRING\n",
    ");\n",
    "\n",
    "CREATE TABLE district (\n",
    "    dstr STRING PRIMARY KEY,\n",
    "    dstr_label STRING,\n",
    "    rgn STRING,\n",
    "    FOREIGN KEY (rgn) REFERENCES region(rgn)\n",
    ");\n",
    "\n",
    "CREATE TABLE store (\n",
    "    str STRING PRIMARY KEY,\n",
    "    str_label STRING,\n",
    "    dstr STRING,\n",
    "    FOREIGN KEY (dstr) REFERENCES district(dstr)\n",
    ");\n",
    "\n",
    "CREATE TABLE location_type (\n",
    "    loctype STRING PRIMARY KEY,\n",
    "    loctype_label STRING\n",
    ");\n",
    "\n",
    "CREATE TABLE location (\n",
    "    loc STRING PRIMARY KEY,\n",
    "    loc_label STRING,\n",
    "    loctype STRING,\n",
    "    FOREIGN KEY (loctype) REFERENCES location_type(loctype)\n",
    ");\n"
   ]
  },
  {
   "cell_type": "code",
   "execution_count": 0,
   "metadata": {
    "application/vnd.databricks.v1+cell": {
     "cellMetadata": {
      "byteLimit": 2048000,
      "rowLimit": 10000
     },
     "inputWidgets": {},
     "nuid": "73ac989a-b3aa-4e1b-94ba-8daf900adccf",
     "showTitle": true,
     "tableResultSettingsMap": {},
     "title": "Site & Price State Hierarchy -  Normalized"
    }
   },
   "outputs": [
    {
     "output_type": "display_data",
     "data": {
      "text/html": [
       "<style scoped>\n",
       "  .table-result-container {\n",
       "    max-height: 300px;\n",
       "    overflow: auto;\n",
       "  }\n",
       "  table, th, td {\n",
       "    border: 1px solid black;\n",
       "    border-collapse: collapse;\n",
       "  }\n",
       "  th, td {\n",
       "    padding: 5px;\n",
       "  }\n",
       "  th {\n",
       "    text-align: left;\n",
       "  }\n",
       "</style><div class='table-result-container'><table class='table-result'><thead style='background-color: white'><tr></tr></thead><tbody></tbody></table></div>"
      ]
     },
     "metadata": {
      "application/vnd.databricks.v1+output": {
       "addedWidgets": {},
       "aggData": [],
       "aggError": "",
       "aggOverflow": false,
       "aggSchema": [],
       "aggSeriesLimitReached": false,
       "aggType": "",
       "arguments": {},
       "columnCustomDisplayInfos": {},
       "data": [],
       "datasetInfos": [],
       "dbfsResultPath": null,
       "isJsonSchema": true,
       "metadata": {
        "isDbfsCommandResult": false
       },
       "overflow": false,
       "plotOptions": {
        "customPlotOptions": {},
        "displayType": "table",
        "pivotAggregation": null,
        "pivotColumns": null,
        "xColumns": null,
        "yColumns": null
       },
       "removedWidgets": [],
       "schema": [],
       "type": "table"
      }
     },
     "output_type": "display_data"
    }
   ],
   "source": [
    "CREATE TABLE channel (\n",
    "    chnl_id STRING PRIMARY KEY,\n",
    "    chnl_label STRING\n",
    ");\n",
    "\n",
    "CREATE TABLE subchannel (\n",
    "    subchnl_id STRING PRIMARY KEY,\n",
    "    subchnl_label STRING,\n",
    "    chnl_id STRING,\n",
    "    FOREIGN KEY (chnl_id) REFERENCES channel(chnl_id)\n",
    ");\n",
    "\n",
    "CREATE TABLE site (\n",
    "    site_id STRING PRIMARY KEY,\n",
    "    site_label STRING,\n",
    "    subchnl_id STRING,\n",
    "    FOREIGN KEY (subchnl_id) REFERENCES subchannel(subchnl_id)\n",
    ");\n",
    "\n",
    "CREATE TABLE state (\n",
    "    state_id STRING PRIMARY KEY,\n",
    "    state_label STRING\n",
    ");\n",
    "\n",
    "CREATE TABLE price_state (\n",
    "    substate_id STRING PRIMARY KEY,\n",
    "    substate_label STRING,\n",
    "    state_id STRING,\n",
    "    FOREIGN KEY (state_id) REFERENCES state(state_id)\n",
    ");\n"
   ]
  },
  {
   "cell_type": "markdown",
   "metadata": {
    "application/vnd.databricks.v1+cell": {
     "cellMetadata": {},
     "inputWidgets": {},
     "nuid": "0c5f683f-167f-4442-b630-f00f110945bb",
     "showTitle": false,
     "tableResultSettingsMap": {},
     "title": ""
    }
   },
   "source": [
    "**Staged Fact Tables with Foreign Key Relationships**"
   ]
  },
  {
   "cell_type": "code",
   "execution_count": 0,
   "metadata": {
    "application/vnd.databricks.v1+cell": {
     "cellMetadata": {
      "byteLimit": 2048000,
      "rowLimit": 10000
     },
     "inputWidgets": {},
     "nuid": "cf021a9f-531d-488b-a5cd-9908c250fb65",
     "showTitle": true,
     "tableResultSettingsMap": {},
     "title": "stg_avg_cost"
    }
   },
   "outputs": [
    {
     "output_type": "display_data",
     "data": {
      "text/html": [
       "<style scoped>\n",
       "  .table-result-container {\n",
       "    max-height: 300px;\n",
       "    overflow: auto;\n",
       "  }\n",
       "  table, th, td {\n",
       "    border: 1px solid black;\n",
       "    border-collapse: collapse;\n",
       "  }\n",
       "  th, td {\n",
       "    padding: 5px;\n",
       "  }\n",
       "  th {\n",
       "    text-align: left;\n",
       "  }\n",
       "</style><div class='table-result-container'><table class='table-result'><thead style='background-color: white'><tr></tr></thead><tbody></tbody></table></div>"
      ]
     },
     "metadata": {
      "application/vnd.databricks.v1+output": {
       "addedWidgets": {},
       "aggData": [],
       "aggError": "",
       "aggOverflow": false,
       "aggSchema": [],
       "aggSeriesLimitReached": false,
       "aggType": "",
       "arguments": {},
       "columnCustomDisplayInfos": {},
       "data": [],
       "datasetInfos": [],
       "dbfsResultPath": null,
       "isJsonSchema": true,
       "metadata": {
        "isDbfsCommandResult": false
       },
       "overflow": false,
       "plotOptions": {
        "customPlotOptions": {},
        "displayType": "table",
        "pivotAggregation": null,
        "pivotColumns": null,
        "xColumns": null,
        "yColumns": null
       },
       "removedWidgets": [],
       "schema": [],
       "type": "table"
      }
     },
     "output_type": "display_data"
    }
   ],
   "source": [
    "CREATE TABLE stg_avg_cost (\n",
    "    fscldt_id STRING NOT NULL,\n",
    "    sku_id STRING NOT NULL,\n",
    "    average_unit_standardcost STRING,\n",
    "    average_unit_landedcost STRING,\n",
    "    PRIMARY KEY (fscldt_id, sku_id),\n",
    "    FOREIGN KEY (fscldt_id) REFERENCES fiscal_day(fscldt_id),\n",
    "    FOREIGN KEY (sku_id) REFERENCES product(sku_id)\n",
    ");\n"
   ]
  },
  {
   "cell_type": "code",
   "execution_count": 0,
   "metadata": {
    "application/vnd.databricks.v1+cell": {
     "cellMetadata": {
      "byteLimit": 2048000,
      "rowLimit": 10000
     },
     "inputWidgets": {},
     "nuid": "20ce4561-a176-4f8a-a979-b34ba191b731",
     "showTitle": true,
     "tableResultSettingsMap": {},
     "title": "stg_transaction"
    }
   },
   "outputs": [
    {
     "output_type": "display_data",
     "data": {
      "text/html": [
       "<style scoped>\n",
       "  .table-result-container {\n",
       "    max-height: 300px;\n",
       "    overflow: auto;\n",
       "  }\n",
       "  table, th, td {\n",
       "    border: 1px solid black;\n",
       "    border-collapse: collapse;\n",
       "  }\n",
       "  th, td {\n",
       "    padding: 5px;\n",
       "  }\n",
       "  th {\n",
       "    text-align: left;\n",
       "  }\n",
       "</style><div class='table-result-container'><table class='table-result'><thead style='background-color: white'><tr></tr></thead><tbody></tbody></table></div>"
      ]
     },
     "metadata": {
      "application/vnd.databricks.v1+output": {
       "addedWidgets": {},
       "aggData": [],
       "aggError": "",
       "aggOverflow": false,
       "aggSchema": [],
       "aggSeriesLimitReached": false,
       "aggType": "",
       "arguments": {},
       "columnCustomDisplayInfos": {},
       "data": [],
       "datasetInfos": [],
       "dbfsResultPath": null,
       "isJsonSchema": true,
       "metadata": {
        "isDbfsCommandResult": false
       },
       "overflow": false,
       "plotOptions": {
        "customPlotOptions": {},
        "displayType": "table",
        "pivotAggregation": null,
        "pivotColumns": null,
        "xColumns": null,
        "yColumns": null
       },
       "removedWidgets": [],
       "schema": [],
       "type": "table"
      }
     },
     "output_type": "display_data"
    }
   ],
   "source": [
    "CREATE TABLE stg_transaction (\n",
    "    order_id STRING NOT NULL,\n",
    "    line_id STRING NOT NULL,\n",
    "    type STRING,\n",
    "    dt STRING,\n",
    "    pos_site_id STRING,\n",
    "    sku_id STRING,\n",
    "    fscldt_id STRING,\n",
    "    price_substate_id STRING,\n",
    "    sales_units STRING,\n",
    "    sales_dollars STRING,\n",
    "    discount_dollars STRING,\n",
    "    original_order_id STRING,\n",
    "    original_line_id STRING,\n",
    "    PRIMARY KEY (order_id, line_id),\n",
    "    FOREIGN KEY (fscldt_id) REFERENCES fiscal_day(fscldt_id),\n",
    "    FOREIGN KEY (sku_id) REFERENCES product(sku_id),\n",
    "    FOREIGN KEY (price_substate_id) REFERENCES price_state(substate_id),\n",
    "    FOREIGN KEY (pos_site_id) REFERENCES site(site_id)\n",
    ");\n"
   ]
  }
 ],
 "metadata": {
  "application/vnd.databricks.v1+notebook": {
   "computePreferences": null,
   "dashboards": [],
   "environmentMetadata": {
    "base_environment": "",
    "environment_version": "2"
   },
   "language": "sql",
   "notebookMetadata": {
    "pythonIndentUnit": 4
   },
   "notebookName": "Normalized tables queries",
   "widgets": {}
  },
  "language_info": {
   "name": "sql"
  }
 },
 "nbformat": 4,
 "nbformat_minor": 0
}